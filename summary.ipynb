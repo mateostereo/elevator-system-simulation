{
 "cells": [
  {
   "cell_type": "markdown",
   "id": "9d692257784e7c77",
   "metadata": {
    "collapsed": false
   },
   "source": []
  },
  {
   "cell_type": "markdown",
   "id": "4f4e853c41f61f5b",
   "metadata": {
    "collapsed": false
   },
   "source": [
    "Parametry początkowe:\n",
    "liczba pięter: 8\n",
    "maksymalna liczba osób w windzie: 5\n",
    "szansa na pojawienie się pasażera: 1/25 (na krok symulacji)\n",
    "\n",
    "Pierwszy scenariusz:\n",
    "jedna winda, prędkość losowa z rozkładu płaskiego z zakresu 7 do 13 kroków symulacji na piętro\n",
    "\n",
    "Drugi scenariusz:\n",
    "dwie windy, obie z prędkością losową z rozkładu płaskiego z zakresu 7 do 13 kroków symulacji na piętro\n",
    "\n",
    "one_el jest listą zawierającą i (30) przebiegów dla pierwszego scenariusza.\n",
    "two_el jest listą zawierającą i (30) przebiegów dla drugiego scenariusza."
   ]
  },
  {
   "cell_type": "code",
   "execution_count": 2,
   "id": "1cf8bb397123420d",
   "metadata": {
    "collapsed": false,
    "ExecuteTime": {
     "end_time": "2024-01-30T08:58:02.924757400Z",
     "start_time": "2024-01-30T08:57:06.986565500Z"
    }
   },
   "outputs": [
    {
     "name": "stdout",
     "output_type": "stream",
     "text": [
      "[435.1685863874346, 147.05428419372006, 154.3194588969823, 145.49789029535864, 150.0168453292496, 155.20782520325204, 105.81616889804326, 201.6079873883342, 168.67714884696016, 285.7851500789889, 208.19107611548557, 105.69762641898865, 221.7578451882845, 103.85653333333333, 105.90287769784173, 272.4014869888476, 211.53077327722252, 690.3491978609626, 167.40249187432286, 178.09232420826623, 486.12294182217346, 182.20236869207002, 108.33493077742278, 146.0041819132253, 151.08225556130367, 123.46831530139103, 126.87944358578052, 500.79068462401796, 701.7790827740492, 309.9718085106383]\n",
      "[105.06325143753267, 95.96002024291498, 138.12860082304528, 168.88917929952953, 133.0434562910561, 124.43473844591163, 165.12141740489838, 133.88425925925927, 86.4126582278481, 165.57826982492276, 137.39087610160706, 162.7912673056443, 124.60176991150442, 161.95886075949366, 160.50055493895672, 160.5667198298777, 136.24962178517399, 148.56902887139108, 94.56270096463022, 86.36004162330906, 149.98597402597403, 166.44183620239957, 92.20184426229508, 133.038105046344, 148.0844645550528, 145.79507337526206, 148.97145877378435, 99.5, 150.74986779481756, 136.15488565488565]\n"
     ]
    }
   ],
   "source": [
    "import importlib\n",
    "import numpy as np\n",
    "from scipy import stats\n",
    "from classes1 import Elevator, ElevatorSystem\n",
    "import random\n",
    "\n",
    "\n",
    "def one_el(n, parameters):\n",
    "    import iteration1\n",
    "    results = []\n",
    "    for _ in range(n):\n",
    "        result = iteration1.run_outside(parameters)\n",
    "        results.append(result)\n",
    "        importlib.reload(iteration1)\n",
    "    return results\n",
    "\n",
    "\n",
    "def two_el(n, parameters):\n",
    "    import iteration2\n",
    "    results = []\n",
    "    for _ in range(n):\n",
    "        result = iteration2.run_outside(parameters)\n",
    "        results.append(result)\n",
    "        importlib.reload(iteration2)\n",
    "    return results\n",
    "\n",
    "\n",
    "i = 30  # liczba przebiegów symulacji\n",
    "\n",
    "max_floor = 8\n",
    "spawn_chance = 25\n",
    "max_people_floor = 10\n",
    "people_array = np.full((max_floor + 1, max_people_floor), None, dtype=object)  # macierzowa reprezentacja pięter\n",
    "winda = Elevator(5, max_floor, speed=random.randint(7, 13))\n",
    "elevators = [winda]\n",
    "passengers_at_dest = []\n",
    "opening_door_delay = 5\n",
    "parameters = (max_floor, spawn_chance, max_people_floor, people_array, winda, elevators,\n",
    "              passengers_at_dest, opening_door_delay)\n",
    "\n",
    "results_one = one_el(i, parameters)\n",
    "\n",
    "winda = Elevator(5, max_floor, speed=random.randint(7, 13))\n",
    "winda2 = Elevator(5, max_floor, speed=random.randint(7, 13))\n",
    "elevator_system = ElevatorSystem(5)\n",
    "parameters = (max_floor, spawn_chance, max_people_floor, people_array, winda, winda2, elevators,\n",
    "              passengers_at_dest, opening_door_delay, elevator_system)\n",
    "\n",
    "results_two = two_el(i, parameters)\n",
    "\n",
    "print(results_one)\n",
    "print(results_two)"
   ]
  },
  {
   "cell_type": "markdown",
   "source": [
    "results_one i results_two są listami zawierającymi średni czas czekania dla pasażerów od pojawienia się w systemie do dotarcia do wybranego piętra w każdej z symulacji.\n",
    "\n",
    "Do porównania wyników użyję testu Studenta. "
   ],
   "metadata": {
    "collapsed": false
   },
   "id": "3e842ae6b9c6cceb"
  },
  {
   "cell_type": "code",
   "execution_count": 3,
   "id": "29b88ff8aa01de64",
   "metadata": {
    "collapsed": false,
    "ExecuteTime": {
     "end_time": "2024-01-30T08:58:41.250635500Z",
     "start_time": "2024-01-30T08:58:41.234591600Z"
    }
   },
   "outputs": [
    {
     "name": "stdout",
     "output_type": "stream",
     "text": [
      "t-statistic: 3.2776197344110365\n",
      "p-value: 0.0017714319999200651\n"
     ]
    }
   ],
   "source": [
    "# Wykonaj t-test:\n",
    "t_stat, p_value = stats.ttest_ind(results_one, results_two)\n",
    "\n",
    "# Wyniki: \n",
    "print(\"t-statistic:\", t_stat)\n",
    "print(\"p-value:\", p_value)"
   ]
  },
  {
   "cell_type": "markdown",
   "source": [
    "Hipotezę zerową określam jako: Nie ma istotnej różnicy w średnich czasach przejazdu pomiędzy scenariuszami."
   ],
   "metadata": {
    "collapsed": false
   },
   "id": "fd2c1dd10b3d5ecf"
  },
  {
   "cell_type": "code",
   "execution_count": 4,
   "id": "1835822fb7c8f666",
   "metadata": {
    "collapsed": false,
    "ExecuteTime": {
     "end_time": "2024-01-30T08:58:46.608012200Z",
     "start_time": "2024-01-30T08:58:46.604506700Z"
    }
   },
   "outputs": [
    {
     "name": "stdout",
     "output_type": "stream",
     "text": [
      "Odrzucam hipotezę zerową: Istnieje istotna różnica w średnich czasach.\n"
     ]
    }
   ],
   "source": [
    "# Interpretacja:\n",
    "alpha = 0.005  # poziom istotności\n",
    "# H0: Brak istotnej różnicy w średnich czasach. \n",
    "if p_value < alpha:\n",
    "    print(\"Odrzucam hipotezę zerową: Istnieje istotna różnica w średnich czasach.\")\n",
    "else:\n",
    "    print(\"Nie odrzucam hipotezy zerowej: Brak istotnej różnicy w średnich czasach\")"
   ]
  },
  {
   "cell_type": "markdown",
   "source": [
    "Hipoteza zerowa została odrzucona: poziom istotności znajduje się poniżej przyjętego progu. \n",
    "Pozytywna wartość t-statistic oznacza, że średni czas dla pierwszego scenariusza jest zwykle dłuższy.\n",
    "\n",
    "Ogólna interpretacja: \n",
    "Według wyników testu statystycznego istnieje znacząca różnica pomiędzy scenariuszami. Jedna winda zwykle mniej wydajnie obsługuje pasażerów, a różnica ma niewielką szansę bycia wynikiem przypadku. "
   ],
   "metadata": {
    "collapsed": false
   },
   "id": "50abf1cedc22cf0b"
  }
 ],
 "metadata": {
  "kernelspec": {
   "display_name": "Python 3 (ipykernel)",
   "language": "python",
   "name": "python3"
  },
  "language_info": {
   "codemirror_mode": {
    "name": "ipython",
    "version": 3
   },
   "file_extension": ".py",
   "mimetype": "text/x-python",
   "name": "python",
   "nbconvert_exporter": "python",
   "pygments_lexer": "ipython3",
   "version": "3.11.4"
  }
 },
 "nbformat": 4,
 "nbformat_minor": 5
}
